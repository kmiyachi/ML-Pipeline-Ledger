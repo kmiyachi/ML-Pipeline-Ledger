{
 "cells": [
  {
   "cell_type": "code",
   "execution_count": 1,
   "metadata": {},
   "outputs": [
    {
     "output_type": "stream",
     "name": "stderr",
     "text": "INFO:botocore.credentials:Found credentials in shared credentials file: ~/.aws/credentials\n"
    }
   ],
   "source": [
    "os.environ[\"AWS_PROFILE\"] = \"Insight\"\n",
    "from create_ledger import *\n",
    "from connect_to_ledger import *\n",
    "from create_table import *\n",
    "from create_index import * \n",
    "from insert_document import *"
   ]
  },
  {
   "cell_type": "code",
   "execution_count": 22,
   "metadata": {},
   "outputs": [],
   "source": [
    "def index_setup(ledgerName, collectionIndex=None, trainIndex=None, predictIndex=None):\n",
    "    logger.info('Creating indexes on all tables in a single transaction...')\n",
    "    try:\n",
    "        for cIndex in collectionIndex:\n",
    "            with create_qldb_session(ledgerName) as session:\n",
    "                session.execute_lambda(lambda x: create_index(x, \"Collection\",\n",
    "                                                            cIndex),\n",
    "                                    lambda retry_attempt: logger.info('Retrying due to OCC conflict...'))\n",
    "                logger.info('Indexes created successfully.')\n",
    "        for tIndex in trainIndex:\n",
    "            with create_qldb_session(ledgerName) as session:\n",
    "                session.execute_lambda(lambda x: create_index(x, \"Training\",\n",
    "                                                            tIndex),\n",
    "                                    lambda retry_attempt: logger.info('Retrying due to OCC conflict...'))\n",
    "                logger.info('Indexes created successfully.')\n",
    "        for pIndex in predictIndex:\n",
    "            with create_qldb_session(ledgerName) as session:\n",
    "                session.execute_lambda(lambda x: create_index(x, \"Prediction\",\n",
    "                                                            pIndex),\n",
    "                                    lambda retry_attempt: logger.info('Retrying due to OCC conflict...'))\n",
    "                logger.info('Indexes created successfully.')\n",
    "    except Exception:\n",
    "        logger.exception('Unable to create indexes.')"
   ]
  },
  {
   "cell_type": "code",
   "execution_count": 28,
   "metadata": {},
   "outputs": [],
   "source": [
    "def qldb_setup(ledgerName, collectionIndex=None, trainIndex=None, predictIndex=None):\n",
    "    create_ledger(ledgerName)\n",
    "    wait_for_active(ledgerName)\n",
    "    try:\n",
    "        with create_qldb_session(ledgerName) as session:\n",
    "            session.execute_lambda(lambda x: create_table(x, \"Collection\") and\n",
    "                                create_table(x, \"Training\") and\n",
    "                                create_table(x, \"Prediction\"),\n",
    "                                lambda retry_attempt: logger.info('Retrying due to OCC conflict...'))\n",
    "            logger.info('Tables created successfully.')\n",
    "    except Exception:\n",
    "        logger.exception('Errors creating tables.')\n",
    "    index_setup(ledgerName, collectionIndex, trainIndex, predictIndex)        "
   ]
  },
  {
   "cell_type": "code",
   "execution_count": 29,
   "metadata": {},
   "outputs": [
    {
     "output_type": "stream",
     "name": "stderr",
     "text": "INFO:create_ledger:Let's create the ledger named: Week2Demo...\nINFO:create_ledger:Success. Ledger state: CREATING.\nINFO:create_ledger:Waiting for ledger to become active...\nINFO:create_ledger:The ledger is still creating. Please wait...\nINFO:create_ledger:The ledger is still creating. Please wait...\nINFO:create_ledger:Success. Ledger is active and ready to use.\nINFO:create_table:Creating the 'Collection' table...\nINFO:create_table:Collection table created successfully.\nINFO:create_table:Creating the 'Training' table...\nINFO:create_table:Training table created successfully.\nINFO:create_table:Creating the 'Prediction' table...\nINFO:create_table:Prediction table created successfully.\nINFO:create_index:Tables created successfully.\nINFO:create_index:Creating indexes on all tables in a single transaction...\nINFO:create_index:Creating index on 'ScrapeTime'...\nINFO:create_index:Indexes created successfully.\nINFO:create_index:Creating index on 'DataPath'...\nINFO:create_index:Indexes created successfully.\nINFO:create_index:Creating index on 'OutputHash'...\nINFO:create_index:Indexes created successfully.\nINFO:create_index:Creating index on 'GitHash'...\nINFO:create_index:Indexes created successfully.\nINFO:create_index:Creating index on 'InputHash'...\nINFO:create_index:Indexes created successfully.\nINFO:create_index:Creating index on 'TrainTime'...\nINFO:create_index:Indexes created successfully.\nINFO:create_index:Creating index on 'Model'...\nINFO:create_index:Indexes created successfully.\nINFO:create_index:Creating index on 'GitHash'...\nINFO:create_index:Indexes created successfully.\nINFO:create_index:Creating index on 'InputHash'...\nINFO:create_index:Indexes created successfully.\nINFO:create_index:Creating index on 'Model'...\nINFO:create_index:Indexes created successfully.\nINFO:create_index:Creating index on 'PredictionTime'...\nINFO:create_index:Indexes created successfully.\nINFO:create_index:Creating index on 'OutputHash'...\nINFO:create_index:Indexes created successfully.\n"
    }
   ],
   "source": [
    "cIndex = ['GitHash', 'ScrapeTime', 'DataPath', 'OutputHash']\n",
    "tIndex = ['GitHash', 'InputHash', 'TrainTime', 'Model']\n",
    "pIndex = ['GitHash', 'InputHash', 'Model', 'PredictionTime', 'OutputHash']\n",
    "qldb_setup(\"Week2Demo\", cIndex, tIndex, pIndex)"
   ]
  },
  {
   "cell_type": "code",
   "execution_count": 2,
   "metadata": {},
   "outputs": [
    {
     "output_type": "stream",
     "name": "stderr",
     "text": "INFO:insert_document:Inserting some documents in the Collection table...\nINFO:insert_document:Documents inserted successfully!\n"
    }
   ],
   "source": [
    "execute_insert(\"Week2Demo\", \"Collection\", \"intraQuarter\", \"testOutputHash\")"
   ]
  },
  {
   "cell_type": "code",
   "execution_count": null,
   "metadata": {},
   "outputs": [],
   "source": []
  }
 ],
 "metadata": {
  "language_info": {
   "codemirror_mode": {
    "name": "ipython",
    "version": 3
   },
   "file_extension": ".py",
   "mimetype": "text/x-python",
   "name": "python",
   "nbconvert_exporter": "python",
   "pygments_lexer": "ipython3",
   "version": "3.6.6-final"
  },
  "orig_nbformat": 2,
  "kernelspec": {
   "name": "python3",
   "display_name": "Python 3"
  }
 },
 "nbformat": 4,
 "nbformat_minor": 2
}