{
 "cells": [
  {
   "cell_type": "code",
   "execution_count": 1,
   "metadata": {
    "tags": []
   },
   "outputs": [
    {
     "output_type": "stream",
     "name": "stderr",
     "text": "/Users/kenmiyachi/anaconda3/lib/python3.6/site-packages/sklearn/ensemble/weight_boosting.py:29: DeprecationWarning: numpy.core.umath_tests is an internal NumPy module and should not be imported. It will be removed in a future NumPy release.\n  from numpy.core.umath_tests import inner1d\nINFO:botocore.credentials:Found credentials in shared credentials file: ~/.aws/credentials\n"
    }
   ],
   "source": [
    "import os\n",
    "import sys\n",
    "from pandas_datareader import data as pdr\n",
    "import pandas as pd\n",
    "import fix_yahoo_finance as yf\n",
    "import importlib\n",
    "sys.path.append(\"../MachineLearningStocks/\")\n",
    "from download_historical_prices import *\n",
    "from parsing_keystats import *\n",
    "from backtesting import *\n",
    "from stock_prediction import *\n",
    "sys.path.append(\"../awsQLDB/\")\n",
    "os.environ[\"AWS_PROFILE\"] = \"Insight\"\n",
    "from create_ledger import *\n",
    "from connect_to_ledger import *\n",
    "from create_table import *\n",
    "from create_index import * \n",
    "from insert_document import *\n",
    "from hashlib import sha256\n",
    "import pickle\n",
    "sys.path.append(\"./\")"
   ]
  },
  {
   "cell_type": "code",
   "execution_count": 13,
   "metadata": {
    "tags": []
   },
   "outputs": [
    {
     "output_type": "stream",
     "name": "stdout",
     "text": "[*********************100%***********************]  1 of 1 downloaded\n"
    },
    {
     "output_type": "execute_result",
     "data": {
      "text/plain": "                  Open        High         Low       Close   Adj Close  \\\nDate                                                                     \n2003-08-01   79.774220   99.529999   98.239998   75.293116   70.220901   \n2003-08-04   79.753962   99.000000   97.000000   26.966079   70.220901   \n2003-08-05   42.185310   98.760002   96.339996   12.034661   68.731087   \n2003-08-06   65.561552   98.059998   96.419998   14.674768   69.130257   \n2003-08-07   40.698259   98.070000   96.760002   59.858133   69.857361   \n2003-08-08   66.098342   98.550003   97.760002   16.236010   70.056938   \n2003-08-11    3.700996   99.040001   97.839996   45.086690   70.320663   \n2003-08-12   96.315280   99.589996   98.419998   70.000733   70.962265   \n2003-08-13   64.444631   99.849998   98.529999    6.592290   70.598709   \n2003-08-14   70.192229   99.750000   98.449997   37.504629   70.791168   \n2003-08-15   22.995951   99.790001   99.120003   89.865036   71.012146   \n2003-08-18    1.232441  100.599998   99.739998   69.954665   71.625191   \n2003-08-19   32.386188  100.940002  100.000000   51.324158   71.896042   \n2003-08-20   41.004109  100.889999  100.160004   68.245363   71.603767   \n2003-08-21   47.230862  101.519997  100.400002    7.846814   71.831886   \n2003-08-22   46.005365  101.820000   99.730003   14.884788   71.119064   \n2003-08-25   10.820763  100.830002   99.279999   84.664678   71.233093   \n2003-08-26   51.502641  100.389999   98.830002   37.852576   71.361427   \n2003-08-27   92.269045  100.360001   99.570000   22.013809   71.382813   \n2003-08-28   44.721217  101.000000   99.660004   94.953744   71.824768   \n2003-08-29   55.541262  101.480003  100.480003   28.179674   72.309502   \n2003-09-02   37.600463  102.879997  101.050003   87.262094   73.278931   \n2003-09-03   24.182978  103.699997  102.779999   34.227830   73.678093   \n2003-09-04   72.094787  103.550003  102.760002    0.472261   73.713768   \n2003-09-05   14.434784  103.550003  102.400002   19.377641   73.300316   \n2003-09-08    8.507644  103.879997  102.930000   54.966755   73.906242   \n2003-09-09   83.278359  103.459999  102.680000   91.305142   73.421486   \n2003-09-10   33.747313  102.800003  101.550003   26.103762   72.680138   \n2003-09-11   87.175321  102.760002  101.839996   56.633973   72.894012   \n2003-09-12    7.651913  102.639999  101.349998   20.215804   73.029434   \n...                ...         ...         ...         ...         ...   \n2014-11-18   75.378031  205.919998  204.440002   40.861957  183.355896   \n2014-11-19   46.098786  205.550003  204.300003  203.219080  183.061539   \n2014-11-20  142.117214  205.710007  204.179993  132.651922  183.382629   \n2014-11-21  142.858647  207.839996  205.979996   23.355591  184.363815   \n2014-11-24  162.099320  207.389999  206.910004  187.406445  184.881241   \n2014-11-25  171.044156  207.789993  206.800003   17.032085  184.747482   \n2014-11-26  202.075964  207.759995  207.029999  153.133514  185.220200   \n2014-11-28   40.540421  207.869995  206.910004  194.443516  184.827713   \n2014-12-01  196.273759  206.539993  205.380005  127.726743  183.543182   \n2014-12-02   62.801195  207.339996  205.779999   58.829883  184.729630   \n2014-12-03   22.637809  208.149994  207.100006  130.322156  185.443222   \n2014-12-04  207.488730  208.270004  206.699997   98.695268  185.238052   \n2014-12-05  129.344092  208.470001  207.550003  197.275832  185.541336   \n2014-12-08    3.335292  208.119995  205.929993   67.333465  184.301422   \n2014-12-09  110.927981  206.600006  203.910004  105.665865  184.176514   \n2014-12-10  160.402471  205.979996  202.929993  105.704874  181.223923   \n2014-12-11   63.892149  206.190002  203.710007   62.264007  182.142761   \n2014-12-12   60.836941  203.820007  200.850006   52.075540  179.199036   \n2014-12-15    5.653480  202.529999  198.779999  138.526532  177.968048   \n2014-12-16  126.915369  202.399994  197.860001   39.719749  176.540787   \n2014-12-17   29.795933  202.339996  198.289993   77.382426  180.001892   \n2014-12-18  102.561995  212.970001  203.919998   57.840853  184.453049   \n2014-12-19  168.464907  207.330002  205.610001   84.691158  185.237900   \n2014-12-22   88.864630  207.470001  206.460007  173.610242  186.089996   \n2014-12-23  125.934927  208.229996  207.399994  120.171518  186.341156   \n2014-12-24  107.582666  208.339996  207.720001   17.908431  186.359055   \n2014-12-26  137.371762  208.850006  208.250000   30.260039  186.960068   \n2014-12-29  208.209092  208.970001  208.139999   76.159738  187.211182   \n2014-12-30   31.916769  208.369995  207.509995   34.334781  186.206635   \n2014-12-31   23.814332  208.190002  205.389999  202.976313  184.358871   \n\n               Volume  \nDate                   \n2003-08-01   49321000  \n2003-08-04   55214100  \n2003-08-05   61415600  \n2003-08-06   50096900  \n2003-08-07   43427400  \n2003-08-08   27357300  \n2003-08-11   34631400  \n2003-08-12   43285600  \n2003-08-13   36152000  \n2003-08-14   35525100  \n2003-08-15   12567000  \n2003-08-18   22873800  \n2003-08-19   37437700  \n2003-08-20   21295300  \n2003-08-21   46494200  \n2003-08-22   52040300  \n2003-08-25   23473000  \n2003-08-26   45065800  \n2003-08-27   18919500  \n2003-08-28   27402400  \n2003-08-29   28706600  \n2003-09-02   49419100  \n2003-09-03   44912400  \n2003-09-04   28381000  \n2003-09-05   31637300  \n2003-09-08   32632800  \n2003-09-09   35053200  \n2003-09-10   45904900  \n2003-09-11   38396300  \n2003-09-12   42524800  \n...               ...  \n2014-11-18   76068100  \n2014-11-19   82373000  \n2014-11-20   72840300  \n2014-11-21  142327300  \n2014-11-24   65880800  \n2014-11-25   79108300  \n2014-11-26   62167800  \n2014-11-28   57890100  \n2014-12-01  103968400  \n2014-12-02   74507200  \n2014-12-03   68952000  \n2014-12-04   91316600  \n2014-12-05   91025500  \n2014-12-08  108588200  \n2014-12-09  125180100  \n2014-12-10  159856400  \n2014-12-11  159012800  \n2014-12-12  202330200  \n2014-12-15  189965800  \n2014-12-16  259543800  \n2014-12-17  253910100  \n2014-12-18  257633900  \n2014-12-19  245084600  \n2014-12-22  148318900  \n2014-12-23  122167900  \n2014-12-24   42963400  \n2014-12-26   57326700  \n2014-12-29   79643900  \n2014-12-30   73540800  \n2014-12-31  130333800  \n\n[2875 rows x 6 columns]",
      "text/html": "<div>\n<style>\n    .dataframe thead tr:only-child th {\n        text-align: right;\n    }\n\n    .dataframe thead th {\n        text-align: left;\n    }\n\n    .dataframe tbody tr th {\n        vertical-align: top;\n    }\n</style>\n<table border=\"1\" class=\"dataframe\">\n  <thead>\n    <tr style=\"text-align: right;\">\n      <th></th>\n      <th>Open</th>\n      <th>High</th>\n      <th>Low</th>\n      <th>Close</th>\n      <th>Adj Close</th>\n      <th>Volume</th>\n    </tr>\n    <tr>\n      <th>Date</th>\n      <th></th>\n      <th></th>\n      <th></th>\n      <th></th>\n      <th></th>\n      <th></th>\n    </tr>\n  </thead>\n  <tbody>\n    <tr>\n      <th>2003-08-01</th>\n      <td>79.774220</td>\n      <td>99.529999</td>\n      <td>98.239998</td>\n      <td>75.293116</td>\n      <td>70.220901</td>\n      <td>49321000</td>\n    </tr>\n    <tr>\n      <th>2003-08-04</th>\n      <td>79.753962</td>\n      <td>99.000000</td>\n      <td>97.000000</td>\n      <td>26.966079</td>\n      <td>70.220901</td>\n      <td>55214100</td>\n    </tr>\n    <tr>\n      <th>2003-08-05</th>\n      <td>42.185310</td>\n      <td>98.760002</td>\n      <td>96.339996</td>\n      <td>12.034661</td>\n      <td>68.731087</td>\n      <td>61415600</td>\n    </tr>\n    <tr>\n      <th>2003-08-06</th>\n      <td>65.561552</td>\n      <td>98.059998</td>\n      <td>96.419998</td>\n      <td>14.674768</td>\n      <td>69.130257</td>\n      <td>50096900</td>\n    </tr>\n    <tr>\n      <th>2003-08-07</th>\n      <td>40.698259</td>\n      <td>98.070000</td>\n      <td>96.760002</td>\n      <td>59.858133</td>\n      <td>69.857361</td>\n      <td>43427400</td>\n    </tr>\n    <tr>\n      <th>2003-08-08</th>\n      <td>66.098342</td>\n      <td>98.550003</td>\n      <td>97.760002</td>\n      <td>16.236010</td>\n      <td>70.056938</td>\n      <td>27357300</td>\n    </tr>\n    <tr>\n      <th>2003-08-11</th>\n      <td>3.700996</td>\n      <td>99.040001</td>\n      <td>97.839996</td>\n      <td>45.086690</td>\n      <td>70.320663</td>\n      <td>34631400</td>\n    </tr>\n    <tr>\n      <th>2003-08-12</th>\n      <td>96.315280</td>\n      <td>99.589996</td>\n      <td>98.419998</td>\n      <td>70.000733</td>\n      <td>70.962265</td>\n      <td>43285600</td>\n    </tr>\n    <tr>\n      <th>2003-08-13</th>\n      <td>64.444631</td>\n      <td>99.849998</td>\n      <td>98.529999</td>\n      <td>6.592290</td>\n      <td>70.598709</td>\n      <td>36152000</td>\n    </tr>\n    <tr>\n      <th>2003-08-14</th>\n      <td>70.192229</td>\n      <td>99.750000</td>\n      <td>98.449997</td>\n      <td>37.504629</td>\n      <td>70.791168</td>\n      <td>35525100</td>\n    </tr>\n    <tr>\n      <th>2003-08-15</th>\n      <td>22.995951</td>\n      <td>99.790001</td>\n      <td>99.120003</td>\n      <td>89.865036</td>\n      <td>71.012146</td>\n      <td>12567000</td>\n    </tr>\n    <tr>\n      <th>2003-08-18</th>\n      <td>1.232441</td>\n      <td>100.599998</td>\n      <td>99.739998</td>\n      <td>69.954665</td>\n      <td>71.625191</td>\n      <td>22873800</td>\n    </tr>\n    <tr>\n      <th>2003-08-19</th>\n      <td>32.386188</td>\n      <td>100.940002</td>\n      <td>100.000000</td>\n      <td>51.324158</td>\n      <td>71.896042</td>\n      <td>37437700</td>\n    </tr>\n    <tr>\n      <th>2003-08-20</th>\n      <td>41.004109</td>\n      <td>100.889999</td>\n      <td>100.160004</td>\n      <td>68.245363</td>\n      <td>71.603767</td>\n      <td>21295300</td>\n    </tr>\n    <tr>\n      <th>2003-08-21</th>\n      <td>47.230862</td>\n      <td>101.519997</td>\n      <td>100.400002</td>\n      <td>7.846814</td>\n      <td>71.831886</td>\n      <td>46494200</td>\n    </tr>\n    <tr>\n      <th>2003-08-22</th>\n      <td>46.005365</td>\n      <td>101.820000</td>\n      <td>99.730003</td>\n      <td>14.884788</td>\n      <td>71.119064</td>\n      <td>52040300</td>\n    </tr>\n    <tr>\n      <th>2003-08-25</th>\n      <td>10.820763</td>\n      <td>100.830002</td>\n      <td>99.279999</td>\n      <td>84.664678</td>\n      <td>71.233093</td>\n      <td>23473000</td>\n    </tr>\n    <tr>\n      <th>2003-08-26</th>\n      <td>51.502641</td>\n      <td>100.389999</td>\n      <td>98.830002</td>\n      <td>37.852576</td>\n      <td>71.361427</td>\n      <td>45065800</td>\n    </tr>\n    <tr>\n      <th>2003-08-27</th>\n      <td>92.269045</td>\n      <td>100.360001</td>\n      <td>99.570000</td>\n      <td>22.013809</td>\n      <td>71.382813</td>\n      <td>18919500</td>\n    </tr>\n    <tr>\n      <th>2003-08-28</th>\n      <td>44.721217</td>\n      <td>101.000000</td>\n      <td>99.660004</td>\n      <td>94.953744</td>\n      <td>71.824768</td>\n      <td>27402400</td>\n    </tr>\n    <tr>\n      <th>2003-08-29</th>\n      <td>55.541262</td>\n      <td>101.480003</td>\n      <td>100.480003</td>\n      <td>28.179674</td>\n      <td>72.309502</td>\n      <td>28706600</td>\n    </tr>\n    <tr>\n      <th>2003-09-02</th>\n      <td>37.600463</td>\n      <td>102.879997</td>\n      <td>101.050003</td>\n      <td>87.262094</td>\n      <td>73.278931</td>\n      <td>49419100</td>\n    </tr>\n    <tr>\n      <th>2003-09-03</th>\n      <td>24.182978</td>\n      <td>103.699997</td>\n      <td>102.779999</td>\n      <td>34.227830</td>\n      <td>73.678093</td>\n      <td>44912400</td>\n    </tr>\n    <tr>\n      <th>2003-09-04</th>\n      <td>72.094787</td>\n      <td>103.550003</td>\n      <td>102.760002</td>\n      <td>0.472261</td>\n      <td>73.713768</td>\n      <td>28381000</td>\n    </tr>\n    <tr>\n      <th>2003-09-05</th>\n      <td>14.434784</td>\n      <td>103.550003</td>\n      <td>102.400002</td>\n      <td>19.377641</td>\n      <td>73.300316</td>\n      <td>31637300</td>\n    </tr>\n    <tr>\n      <th>2003-09-08</th>\n      <td>8.507644</td>\n      <td>103.879997</td>\n      <td>102.930000</td>\n      <td>54.966755</td>\n      <td>73.906242</td>\n      <td>32632800</td>\n    </tr>\n    <tr>\n      <th>2003-09-09</th>\n      <td>83.278359</td>\n      <td>103.459999</td>\n      <td>102.680000</td>\n      <td>91.305142</td>\n      <td>73.421486</td>\n      <td>35053200</td>\n    </tr>\n    <tr>\n      <th>2003-09-10</th>\n      <td>33.747313</td>\n      <td>102.800003</td>\n      <td>101.550003</td>\n      <td>26.103762</td>\n      <td>72.680138</td>\n      <td>45904900</td>\n    </tr>\n    <tr>\n      <th>2003-09-11</th>\n      <td>87.175321</td>\n      <td>102.760002</td>\n      <td>101.839996</td>\n      <td>56.633973</td>\n      <td>72.894012</td>\n      <td>38396300</td>\n    </tr>\n    <tr>\n      <th>2003-09-12</th>\n      <td>7.651913</td>\n      <td>102.639999</td>\n      <td>101.349998</td>\n      <td>20.215804</td>\n      <td>73.029434</td>\n      <td>42524800</td>\n    </tr>\n    <tr>\n      <th>...</th>\n      <td>...</td>\n      <td>...</td>\n      <td>...</td>\n      <td>...</td>\n      <td>...</td>\n      <td>...</td>\n    </tr>\n    <tr>\n      <th>2014-11-18</th>\n      <td>75.378031</td>\n      <td>205.919998</td>\n      <td>204.440002</td>\n      <td>40.861957</td>\n      <td>183.355896</td>\n      <td>76068100</td>\n    </tr>\n    <tr>\n      <th>2014-11-19</th>\n      <td>46.098786</td>\n      <td>205.550003</td>\n      <td>204.300003</td>\n      <td>203.219080</td>\n      <td>183.061539</td>\n      <td>82373000</td>\n    </tr>\n    <tr>\n      <th>2014-11-20</th>\n      <td>142.117214</td>\n      <td>205.710007</td>\n      <td>204.179993</td>\n      <td>132.651922</td>\n      <td>183.382629</td>\n      <td>72840300</td>\n    </tr>\n    <tr>\n      <th>2014-11-21</th>\n      <td>142.858647</td>\n      <td>207.839996</td>\n      <td>205.979996</td>\n      <td>23.355591</td>\n      <td>184.363815</td>\n      <td>142327300</td>\n    </tr>\n    <tr>\n      <th>2014-11-24</th>\n      <td>162.099320</td>\n      <td>207.389999</td>\n      <td>206.910004</td>\n      <td>187.406445</td>\n      <td>184.881241</td>\n      <td>65880800</td>\n    </tr>\n    <tr>\n      <th>2014-11-25</th>\n      <td>171.044156</td>\n      <td>207.789993</td>\n      <td>206.800003</td>\n      <td>17.032085</td>\n      <td>184.747482</td>\n      <td>79108300</td>\n    </tr>\n    <tr>\n      <th>2014-11-26</th>\n      <td>202.075964</td>\n      <td>207.759995</td>\n      <td>207.029999</td>\n      <td>153.133514</td>\n      <td>185.220200</td>\n      <td>62167800</td>\n    </tr>\n    <tr>\n      <th>2014-11-28</th>\n      <td>40.540421</td>\n      <td>207.869995</td>\n      <td>206.910004</td>\n      <td>194.443516</td>\n      <td>184.827713</td>\n      <td>57890100</td>\n    </tr>\n    <tr>\n      <th>2014-12-01</th>\n      <td>196.273759</td>\n      <td>206.539993</td>\n      <td>205.380005</td>\n      <td>127.726743</td>\n      <td>183.543182</td>\n      <td>103968400</td>\n    </tr>\n    <tr>\n      <th>2014-12-02</th>\n      <td>62.801195</td>\n      <td>207.339996</td>\n      <td>205.779999</td>\n      <td>58.829883</td>\n      <td>184.729630</td>\n      <td>74507200</td>\n    </tr>\n    <tr>\n      <th>2014-12-03</th>\n      <td>22.637809</td>\n      <td>208.149994</td>\n      <td>207.100006</td>\n      <td>130.322156</td>\n      <td>185.443222</td>\n      <td>68952000</td>\n    </tr>\n    <tr>\n      <th>2014-12-04</th>\n      <td>207.488730</td>\n      <td>208.270004</td>\n      <td>206.699997</td>\n      <td>98.695268</td>\n      <td>185.238052</td>\n      <td>91316600</td>\n    </tr>\n    <tr>\n      <th>2014-12-05</th>\n      <td>129.344092</td>\n      <td>208.470001</td>\n      <td>207.550003</td>\n      <td>197.275832</td>\n      <td>185.541336</td>\n      <td>91025500</td>\n    </tr>\n    <tr>\n      <th>2014-12-08</th>\n      <td>3.335292</td>\n      <td>208.119995</td>\n      <td>205.929993</td>\n      <td>67.333465</td>\n      <td>184.301422</td>\n      <td>108588200</td>\n    </tr>\n    <tr>\n      <th>2014-12-09</th>\n      <td>110.927981</td>\n      <td>206.600006</td>\n      <td>203.910004</td>\n      <td>105.665865</td>\n      <td>184.176514</td>\n      <td>125180100</td>\n    </tr>\n    <tr>\n      <th>2014-12-10</th>\n      <td>160.402471</td>\n      <td>205.979996</td>\n      <td>202.929993</td>\n      <td>105.704874</td>\n      <td>181.223923</td>\n      <td>159856400</td>\n    </tr>\n    <tr>\n      <th>2014-12-11</th>\n      <td>63.892149</td>\n      <td>206.190002</td>\n      <td>203.710007</td>\n      <td>62.264007</td>\n      <td>182.142761</td>\n      <td>159012800</td>\n    </tr>\n    <tr>\n      <th>2014-12-12</th>\n      <td>60.836941</td>\n      <td>203.820007</td>\n      <td>200.850006</td>\n      <td>52.075540</td>\n      <td>179.199036</td>\n      <td>202330200</td>\n    </tr>\n    <tr>\n      <th>2014-12-15</th>\n      <td>5.653480</td>\n      <td>202.529999</td>\n      <td>198.779999</td>\n      <td>138.526532</td>\n      <td>177.968048</td>\n      <td>189965800</td>\n    </tr>\n    <tr>\n      <th>2014-12-16</th>\n      <td>126.915369</td>\n      <td>202.399994</td>\n      <td>197.860001</td>\n      <td>39.719749</td>\n      <td>176.540787</td>\n      <td>259543800</td>\n    </tr>\n    <tr>\n      <th>2014-12-17</th>\n      <td>29.795933</td>\n      <td>202.339996</td>\n      <td>198.289993</td>\n      <td>77.382426</td>\n      <td>180.001892</td>\n      <td>253910100</td>\n    </tr>\n    <tr>\n      <th>2014-12-18</th>\n      <td>102.561995</td>\n      <td>212.970001</td>\n      <td>203.919998</td>\n      <td>57.840853</td>\n      <td>184.453049</td>\n      <td>257633900</td>\n    </tr>\n    <tr>\n      <th>2014-12-19</th>\n      <td>168.464907</td>\n      <td>207.330002</td>\n      <td>205.610001</td>\n      <td>84.691158</td>\n      <td>185.237900</td>\n      <td>245084600</td>\n    </tr>\n    <tr>\n      <th>2014-12-22</th>\n      <td>88.864630</td>\n      <td>207.470001</td>\n      <td>206.460007</td>\n      <td>173.610242</td>\n      <td>186.089996</td>\n      <td>148318900</td>\n    </tr>\n    <tr>\n      <th>2014-12-23</th>\n      <td>125.934927</td>\n      <td>208.229996</td>\n      <td>207.399994</td>\n      <td>120.171518</td>\n      <td>186.341156</td>\n      <td>122167900</td>\n    </tr>\n    <tr>\n      <th>2014-12-24</th>\n      <td>107.582666</td>\n      <td>208.339996</td>\n      <td>207.720001</td>\n      <td>17.908431</td>\n      <td>186.359055</td>\n      <td>42963400</td>\n    </tr>\n    <tr>\n      <th>2014-12-26</th>\n      <td>137.371762</td>\n      <td>208.850006</td>\n      <td>208.250000</td>\n      <td>30.260039</td>\n      <td>186.960068</td>\n      <td>57326700</td>\n    </tr>\n    <tr>\n      <th>2014-12-29</th>\n      <td>208.209092</td>\n      <td>208.970001</td>\n      <td>208.139999</td>\n      <td>76.159738</td>\n      <td>187.211182</td>\n      <td>79643900</td>\n    </tr>\n    <tr>\n      <th>2014-12-30</th>\n      <td>31.916769</td>\n      <td>208.369995</td>\n      <td>207.509995</td>\n      <td>34.334781</td>\n      <td>186.206635</td>\n      <td>73540800</td>\n    </tr>\n    <tr>\n      <th>2014-12-31</th>\n      <td>23.814332</td>\n      <td>208.190002</td>\n      <td>205.389999</td>\n      <td>202.976313</td>\n      <td>184.358871</td>\n      <td>130333800</td>\n    </tr>\n  </tbody>\n</table>\n<p>2875 rows × 6 columns</p>\n</div>"
     },
     "metadata": {},
     "execution_count": 13
    }
   ],
   "source": [
    "sp500 = build_sp500_dataset()\n",
    "sp500['Open'] = sp500['Open'].apply(lambda x: mess_up(x))\n",
    "sp500['Close'] = sp500['Close'].apply(lambda x: mess_up(x))\n",
    "sp500"
   ]
  },
  {
   "cell_type": "code",
   "execution_count": 3,
   "metadata": {
    "tags": []
   },
   "outputs": [
    {
     "output_type": "stream",
     "name": "stderr",
     "text": "Parsing progress:: 100%|██████████| 560/560 [04:20<00:00,  2.15tickers/s]\n"
    }
   ],
   "source": [
    "sp500_df, stock_df = preprocess_price_data()\n",
    "parsed_df = parse_keystats(sp500_df, stock_df)"
   ]
  },
  {
   "cell_type": "code",
   "execution_count": 4,
   "metadata": {
    "tags": []
   },
   "outputs": [
    {
     "output_type": "stream",
     "name": "stdout",
     "text": "Classifier performance\n ====================\nAccuracy score:  0.78\nPrecision score:  0.72\n\n Stock prediction performance report \n ========================================\nTotal Trades: 173\nAverage return for stock predictions:  38.4 %\nAverage market return in the same period:  9.3% \nCompared to the index, our strategy earns  29.1 percentage points more\n"
    },
    {
     "output_type": "execute_result",
     "data": {
      "text/plain": "RandomForestClassifier(bootstrap=True, class_weight=None, criterion='gini',\n            max_depth=None, max_features='auto', max_leaf_nodes=None,\n            min_impurity_decrease=0.0, min_impurity_split=None,\n            min_samples_leaf=1, min_samples_split=2,\n            min_weight_fraction_leaf=0.0, n_estimators=100, n_jobs=1,\n            oob_score=False, random_state=0, verbose=0, warm_start=False)"
     },
     "metadata": {},
     "execution_count": 4
    }
   ],
   "source": [
    "backtest()\n",
    "# check_yahoo()\n",
    "# current_df = forward()\n",
    "# current_df.to_csv(\"forward_sample.csv\", index=False)"
   ]
  },
  {
   "cell_type": "code",
   "execution_count": 5,
   "metadata": {
    "tags": []
   },
   "outputs": [
    {
     "output_type": "stream",
     "name": "stdout",
     "text": "13 stocks predicted to outperform the S&P500 by more than 10%:\nTMO WGO DISCA FSLR LRCX BLK WY CMI XRX NTAP GTN LMT APD\n"
    },
    {
     "output_type": "execute_result",
     "data": {
      "text/plain": "'TMO WGO DISCA FSLR LRCX BLK WY CMI XRX NTAP GTN LMT APD'"
     },
     "metadata": {},
     "execution_count": 5
    }
   ],
   "source": [
    "predict_stocks()"
   ]
  },
  {
   "cell_type": "code",
   "execution_count": 2,
   "metadata": {},
   "outputs": [],
   "source": [
    "def collectionData(inputData, outHash):\n",
    "    repo = git.Repo(search_parent_directories=True)\n",
    "    commit_hash = repo.head.object.hexsha\n",
    "    collection_data = [\n",
    "        {\n",
    "            'GitHash': commit_hash,\n",
    "            'ScrapeTime': datetime.now(),\n",
    "            'InputData': inputData,\n",
    "            'outputHash': outHash\n",
    "        }\n",
    "    ]\n",
    "    return collection_data\n",
    "\n",
    "def trainingData(inputHash, model):\n",
    "    repo = git.Repo(search_parent_directories=True)\n",
    "    commit_hash = repo.head.object.hexsha\n",
    "    training_data = [\n",
    "        {\n",
    "            'GitHash': commit_hash,\n",
    "            'TrainTime': datetime.now(),\n",
    "            'InputHash': inputHash,\n",
    "            'Model': model\n",
    "        }\n",
    "    ]\n",
    "    return training_data\n",
    "\n",
    "def predictionData(inputHash, model, outHash):\n",
    "    repo = git.Repo(search_parent_directories=True)\n",
    "    commit_hash = repo.head.object.hexsha\n",
    "    prediction_data = [\n",
    "        {\n",
    "            'GitHash': commit_hash,\n",
    "            'InputHash': inputHash,\n",
    "            'Model': model, \n",
    "            'PredictionTime': datetime.now(),\n",
    "            'OutputHash': outHash\n",
    "        }\n",
    "    ]\n",
    "    return prediction_data"
   ]
  },
  {
   "cell_type": "code",
   "execution_count": 3,
   "metadata": {},
   "outputs": [],
   "source": [
    "import random\n",
    "def mess_up(x):\n",
    "    return x*random.random()\n",
    "    \n",
    "\n",
    "def data_collection(source=\"Yahoo Finance\"):\n",
    "    sp500 = build_sp500_dataset()\n",
    "    sp500['Open'] = sp500['Open'].apply(lambda x: mess_up(x))\n",
    "    sp500['Close'] = sp500['Close'].apply(lambda x: mess_up(x))\n",
    "    sp500.to_csv(\"sp500_index.csv\")\n",
    "    s = pickle.dumps(sp500)\n",
    "    outputHash = sha256(s).hexdigest()\n",
    "    print(outputHash)\n",
    "    # sp500_df, stock_df = preprocess_price_data()\n",
    "    # parse_keystats(sp500_df, stock_df)\n",
    "    data = collectionData(source, outputHash)\n",
    "    dynamic_insert(\"StockMarketPrediction\", \"Collection\", data)\n",
    "\n",
    "\n",
    "def training(modelName=\"RandomForest-2020\"): \n",
    "    model = backtest()\n",
    "    s = pickle.dumps(model)\n",
    "    modelHash = sha256(s).hexdigest()\n",
    "    data = trainingData(modelHash, modelName)\n",
    "    dynamic_insert(\"StockMarketPrediction\", \"Training\", data)\n",
    "\n",
    "def predict(modelName=\"RandomForest-2020\"):\n",
    "    stats = pd.read_csv('./new_keystats.csv')\n",
    "    s = pickle.dumps(stats)\n",
    "    inputHash = sha256(s).hexdigest()\n",
    "    prediction = predict_stocks()\n",
    "    outputHash = sha256(str.encode(prediction)).hexdigest()\n",
    "    data = predictionData(inputHash, modelName, outputHash)\n",
    "    dynamic_insert(\"StockMarketPrediction\", \"Prediction\", data)"
   ]
  },
  {
   "cell_type": "code",
   "execution_count": 4,
   "metadata": {
    "tags": []
   },
   "outputs": [
    {
     "output_type": "stream",
     "name": "stdout",
     "text": "[*********************100%***********************]  1 of 1 downloaded\n376d6317611e15609b2a296b3c3fb161025fefc0c992c4da4db6dce8857cbf16\nINFO:insert_document:Inserting some documents in the Collection table...\nINFO:insert_document:Documents inserted successfully!\nClassifier performance\n ====================\nAccuracy score:  0.79\nPrecision score:  0.70\n\n Stock prediction performance report \n ========================================\nTotal Trades: 178\nAverage return for stock predictions:  35.3 %\nAverage market return in the same period:  9.2% \nCompared to the index, our strategy earns  26.1 percentage points more\nINFO:insert_document:Inserting some documents in the Training table...\nINFO:insert_document:Documents inserted successfully!\n13 stocks predicted to outperform the S&P500 by more than 10%:\nTMO WGO DISCA FSLR LRCX BLK WY CMI XRX NTAP GTN LMT APD\nINFO:insert_document:Inserting some documents in the Prediction table...\nINFO:insert_document:Documents inserted successfully!\n"
    }
   ],
   "source": [
    "data_collection()\n",
    "training(\"Test Model 1\")\n",
    "predict(\"Test Model 1\")"
   ]
  },
  {
   "cell_type": "code",
   "execution_count": 38,
   "metadata": {
    "tags": []
   },
   "outputs": [
    {
     "output_type": "stream",
     "name": "stdout",
     "text": "b'Nice'\n"
    }
   ],
   "source": [
    "print(b'Nice')"
   ]
  },
  {
   "cell_type": "code",
   "execution_count": 22,
   "metadata": {},
   "outputs": [],
   "source": [
    "sp500.to_csv(\"tbd.csv\")"
   ]
  },
  {
   "cell_type": "code",
   "execution_count": 6,
   "metadata": {},
   "outputs": [],
   "source": [
    "ks = pd.read_csv('./new_keystats.csv')\n",
    "ks['Price'] = ks['Price'].apply(lambda x: mess_up(x))\n",
    "ks['SP500'] = ks['SP500'].apply(lambda x: mess_up(x))"
   ]
  },
  {
   "cell_type": "code",
   "execution_count": null,
   "metadata": {},
   "outputs": [],
   "source": []
  }
 ],
 "metadata": {
  "language_info": {
   "codemirror_mode": {
    "name": "ipython",
    "version": 3
   },
   "file_extension": ".py",
   "mimetype": "text/x-python",
   "name": "python",
   "nbconvert_exporter": "python",
   "pygments_lexer": "ipython3",
   "version": "3.6.6-final"
  },
  "orig_nbformat": 2,
  "kernelspec": {
   "name": "python3",
   "display_name": "Python 3"
  }
 },
 "nbformat": 4,
 "nbformat_minor": 2
}